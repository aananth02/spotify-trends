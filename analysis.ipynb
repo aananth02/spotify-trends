{
 "cells": [
  {
   "cell_type": "markdown",
   "metadata": {},
   "source": [
    "# Analysis for Spotify Trends"
   ]
  },
  {
   "cell_type": "markdown",
   "metadata": {},
   "source": [
    "## Introduction"
   ]
  },
  {
   "cell_type": "markdown",
   "metadata": {},
   "source": [
    "The dataset we are going to be using for this analysis is going to be based on Spotify Data. The main reason behind this is trying to undertand what makes music successfull / popular and providing analysis to allow for artists to make use of that information.\n",
    "\n",
    "Below, I have described our data and the questions that we will be answering, its signifance, relevance and how someone can benifit from this information."
   ]
  },
  {
   "cell_type": "markdown",
   "metadata": {},
   "source": [
    "## Data Extraction from Spotify"
   ]
  },
  {
   "cell_type": "markdown",
   "metadata": {},
   "source": [
    "For this project we have used the spotify API for data extraction and since we will be conducting inference as well as regression based analysis we needed to maintain certain features within the DataSet\n",
    "\n",
    "1) It needed to be a random sample (true randomness does not exists, therefore we can say its pseudorandom)\n",
    "2) The size of the dataset needs to be less than 10% of the total population by size\n",
    "3) Implement a function for extracting the data so someone else can conduct this same analysis later on on a slightly different dataset, with parameters thet decide upon.\n",
    "\n",
    "*Note: Before diving further deeper into the dataset and what it does, I am going to extract the data and clean it*"
   ]
  },
  {
   "cell_type": "markdown",
   "metadata": {},
   "source": [
    "### Getting the Spotify API setup"
   ]
  },
  {
   "cell_type": "markdown",
   "metadata": {},
   "source": []
  }
 ],
 "metadata": {
  "language_info": {
   "name": "python"
  },
  "orig_nbformat": 4
 },
 "nbformat": 4,
 "nbformat_minor": 2
}
