{
 "cells": [
  {
   "cell_type": "markdown",
   "metadata": {},
   "source": [
    "# Analysis for Spotify Trends"
   ]
  },
  {
   "cell_type": "markdown",
   "metadata": {},
   "source": [
    "## Introduction"
   ]
  },
  {
   "cell_type": "markdown",
   "metadata": {},
   "source": [
    "The dataset we are going to be using for this analysis is going to be based on Spotify Data. The main reason behind this is trying to undertand what makes music successfull / popular and providing analysis to allow for artists to make use of that information.\n",
    "\n",
    "Below, I have described our data and the questions that we will be answering, its signifance, relevance and how someone can benifit from this information."
   ]
  },
  {
   "cell_type": "markdown",
   "metadata": {},
   "source": [
    "## Data Extraction from Spotify"
   ]
  },
  {
   "cell_type": "markdown",
   "metadata": {},
   "source": [
    "For this project we have used the spotify API for data extraction and since we will be conducting inference as well as regression based analysis we needed to maintain certain features within the DataSet\n",
    "\n",
    "1) It needed to be a random sample (true randomness does not exists, therefore we can say its pseudorandom)\n",
    "2) The size of the dataset needs to be less than 10% of the total population by size\n",
    "3) Implement a function for extracting the data so someone else can conduct this same analysis later on on a slightly different dataset, with parameters thet decide upon.\n",
    "\n",
    "*Note: Before diving further deeper into the dataset and what it does, I am going to extract the data and clean it*"
   ]
  },
  {
   "cell_type": "markdown",
   "metadata": {},
   "source": [
    "### Getting the Spotify API setup"
   ]
  },
  {
   "cell_type": "code",
   "execution_count": 5,
   "metadata": {},
   "outputs": [],
   "source": [
    "import spotipy\n",
    "import pandas as pd"
   ]
  },
  {
   "cell_type": "code",
   "execution_count": 10,
   "metadata": {},
   "outputs": [
    {
     "data": {
      "text/plain": [
       "<spotipy.client.Spotify at 0x7f9e11616a30>"
      ]
     },
     "execution_count": 10,
     "metadata": {},
     "output_type": "execute_result"
    }
   ],
   "source": [
    "# Would need to use the secrets file, if this was not a dummy account\n",
    "\n",
    "SPOTIPY_CLIENT_ID = '544d6eb7a5c14986bdd9727cf2b40f9d'\n",
    "SPOTIPY_CLIENT_SECRET = '631e2374886c4d508cbcc8b83afa3dd3' # This secret can be rotated later to prevent maluse\n",
    "PORT_NUMBER = 8080\n",
    "\n",
    "client_credentials_manager = spotipy.SpotifyClientCredentials(client_id=SPOTIPY_CLIENT_ID, client_secret=SPOTIPY_CLIENT_SECRET)\n",
    "sp = spotipy.Spotify(client_credentials_manager = client_credentials_manager)\n",
    "\n",
    "sp\n"
   ]
  },
  {
   "cell_type": "markdown",
   "metadata": {},
   "source": [
    "### Getting the Pseudo Random Song Samples with specific Parameters"
   ]
  },
  {
   "cell_type": "code",
   "execution_count": null,
   "metadata": {},
   "outputs": [],
   "source": [
    "def get_random_songs(number_of_songs=1, genre='Pop', year_range='2011-2022', random_state = 101):\n",
    "    #Set random seed\n",
    "    import random\n",
    "    random.seed(random_state)\n",
    "\n",
    "    #Generate random offsets (sampling without replacement)\n",
    "    random_offset = random.sample(range(0, 900), number_of_songs)\n",
    "\n",
    "    #Generate random search character for query (sampling with replacement)\n",
    "    chars = 'abcdefghijklmnopqrstuvwxyz'\n",
    "    random_char = random.choices(chars, k=number_of_songs)\n",
    "\n",
    "    #Generate random id to select in the output list of 10 (sampling with replacement)\n",
    "    random_id = random.choices(range(0, 10), k=number_of_songs)\n",
    "\n",
    "    df_random_songs = pd.DataFrame(columns=['track_id', 'track_name', 'artist_id', 'artist_name', 'album_id', 'album_name', 'release_date'])\n",
    "\n",
    "    for i in range(0,number_of_songs):\n",
    "        #Pseudo-random query selection\n",
    "        results = sp.search(q='genre:' + genre + ' year:' + year_range+' '+random_char[i], type='track', offset=random_offset[i])\n",
    "\n",
    "        song_list = []\n",
    "        #Adding track info\n",
    "        song_list.append(results['tracks']['items'][random_id[i]]['id'])\n",
    "        song_list.append(results['tracks']['items'][random_id[i]]['name'])\n",
    "\n",
    "        #Adding artist info (first one listed)\n",
    "        song_list.append(results['tracks']['items'][random_id[i]]['artists'][0]['id'])\n",
    "        song_list.append(results['tracks']['items'][random_id[i]]['artists'][0]['name'])\n",
    "\n",
    "        #Adding album info\n",
    "        song_list.append(results['tracks']['items'][random_id[i]]['album']['id'])\n",
    "        song_list.append(results['tracks']['items'][random_id[i]]['album']['name'])\n",
    "        song_list.append(results['tracks']['items'][random_id[i]]['album']['release_date'])\n",
    "\n",
    "        df_song = pd.DataFrame([song_list], columns=['track_id', 'track_name', 'artist_id', 'artist_name', 'album_id', 'album_name', 'release_date'])\n",
    "\n",
    "        df_random_songs=pd.concat([df_random_songs, df_song])\n",
    "\n",
    "    df_random_songs=df_random_songs.reset_index(drop=True)\n",
    "    \n",
    "    return df_random_songs    \n",
    "    "
   ]
  },
  {
   "cell_type": "markdown",
   "metadata": {},
   "source": []
  }
 ],
 "metadata": {
  "kernelspec": {
   "display_name": "Python 3.9.12 ('base')",
   "language": "python",
   "name": "python3"
  },
  "language_info": {
   "codemirror_mode": {
    "name": "ipython",
    "version": 3
   },
   "file_extension": ".py",
   "mimetype": "text/x-python",
   "name": "python",
   "nbconvert_exporter": "python",
   "pygments_lexer": "ipython3",
   "version": "3.9.12"
  },
  "orig_nbformat": 4,
  "vscode": {
   "interpreter": {
    "hash": "6f06ecb63574e2c9713ef98579ce4e5abab30e62f5ef13c5f1267572dab96c3d"
   }
  }
 },
 "nbformat": 4,
 "nbformat_minor": 2
}
